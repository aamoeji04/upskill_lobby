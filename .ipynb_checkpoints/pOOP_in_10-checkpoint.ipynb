{
 "cells": [
  {
   "cell_type": "markdown",
   "metadata": {},
   "source": [
    "Code-Along from [Bro Code](https://www.youtube.com/watch?v=q2SGW2VgwAM&ab_channel=BroCode)"
   ]
  },
  {
   "cell_type": "markdown",
   "metadata": {},
   "source": [
    "#### basic"
   ]
  },
  {
   "cell_type": "code",
   "execution_count": 3,
   "metadata": {
    "ExecuteTime": {
     "end_time": "2021-05-12T02:17:26.712347Z",
     "start_time": "2021-05-12T02:17:26.695393Z"
    }
   },
   "outputs": [],
   "source": [
    "# from module import class\n",
    "class Car:\n",
    "#     constructor = intit method constructs objects for us [self must be at least one of the aruguement parameters]\n",
    "    def __init__(self, make, model, year, color):\n",
    "#     self.attribute [self = the object we are working with]\n",
    "        self.make = make\n",
    "        self.model = model\n",
    "        self.year = year\n",
    "        self.color = color\n",
    "#     methods(argument) self is the object using the method\n",
    "# nothing needs to be passed in as 'self'\n",
    "    def drive(self):\n",
    "        print(\"This car is driving.\")\n",
    "    def stop(self):\n",
    "        print(\"This car is stopped.\")"
   ]
  },
  {
   "cell_type": "code",
   "execution_count": 4,
   "metadata": {
    "ExecuteTime": {
     "end_time": "2021-05-12T02:30:50.814954Z",
     "start_time": "2021-05-12T02:30:50.798995Z"
    }
   },
   "outputs": [],
   "source": [
    "car_1 = Car('Lexus', 'RX350', 2021, 'olive')"
   ]
  },
  {
   "cell_type": "code",
   "execution_count": 9,
   "metadata": {
    "ExecuteTime": {
     "end_time": "2021-05-12T02:33:18.479332Z",
     "start_time": "2021-05-12T02:33:18.467791Z"
    }
   },
   "outputs": [
    {
     "data": {
      "text/plain": [
       "'Lexus'"
      ]
     },
     "execution_count": 9,
     "metadata": {},
     "output_type": "execute_result"
    }
   ],
   "source": [
    "car_1.make"
   ]
  },
  {
   "cell_type": "code",
   "execution_count": 10,
   "metadata": {
    "ExecuteTime": {
     "end_time": "2021-05-12T02:33:18.712914Z",
     "start_time": "2021-05-12T02:33:18.698953Z"
    }
   },
   "outputs": [
    {
     "name": "stdout",
     "output_type": "stream",
     "text": [
      "olive\n",
      "2021\n",
      "Lexus\n",
      "RX350\n"
     ]
    }
   ],
   "source": [
    "print(car_1.color)\n",
    "print(car_1.year)\n",
    "print(car_1.make)\n",
    "print(car_1.model)"
   ]
  },
  {
   "cell_type": "code",
   "execution_count": 14,
   "metadata": {
    "ExecuteTime": {
     "end_time": "2021-05-12T02:43:19.527837Z",
     "start_time": "2021-05-12T02:43:19.519435Z"
    }
   },
   "outputs": [
    {
     "name": "stdout",
     "output_type": "stream",
     "text": [
      "This car is driving.\n"
     ]
    }
   ],
   "source": [
    "car_1.drive()"
   ]
  },
  {
   "cell_type": "code",
   "execution_count": 15,
   "metadata": {
    "ExecuteTime": {
     "end_time": "2021-05-12T02:43:26.129271Z",
     "start_time": "2021-05-12T02:43:26.116678Z"
    }
   },
   "outputs": [
    {
     "name": "stdout",
     "output_type": "stream",
     "text": [
      "This car is stopped.\n"
     ]
    }
   ],
   "source": [
    "car_1.stop()"
   ]
  },
  {
   "cell_type": "markdown",
   "metadata": {},
   "source": [
    "#### shake it up"
   ]
  },
  {
   "cell_type": "code",
   "execution_count": 20,
   "metadata": {
    "ExecuteTime": {
     "end_time": "2021-05-12T02:44:46.750901Z",
     "start_time": "2021-05-12T02:44:46.731208Z"
    }
   },
   "outputs": [],
   "source": [
    "# replace self with the name of the object being worked on\n",
    "# from module import class\n",
    "class Carshake:\n",
    "#     constructor = intit method constructs objects for us [self must be at least one of the aruguement parameters]\n",
    "    def __init__(self, make, model, year, color):\n",
    "#     self.attribute [self = the object we are working with]\n",
    "        self.make = make\n",
    "        self.model = model\n",
    "        self.year = year\n",
    "        self.color = color\n",
    "#     methods(argument) self is the object using the method\n",
    "# nothing needs to be passed in as 'self'\n",
    "    def drive(self):\n",
    "        print(\"This \"+self.color + self.year + self.make + self.model+\" is driving.\")\n",
    "    def stop(self):\n",
    "        print(\"This \"+self.color +self.year +self.make +self.model+\" is stopped.\")"
   ]
  },
  {
   "cell_type": "code",
   "execution_count": 24,
   "metadata": {
    "ExecuteTime": {
     "end_time": "2021-05-12T02:46:13.566362Z",
     "start_time": "2021-05-12T02:46:13.553969Z"
    }
   },
   "outputs": [],
   "source": [
    "car_2 = Carshake(\"Toyota\", \"Rav4\", \"2020\", \"navy-blue\")"
   ]
  },
  {
   "cell_type": "code",
   "execution_count": 25,
   "metadata": {
    "ExecuteTime": {
     "end_time": "2021-05-12T02:46:13.770242Z",
     "start_time": "2021-05-12T02:46:13.762298Z"
    }
   },
   "outputs": [
    {
     "name": "stdout",
     "output_type": "stream",
     "text": [
      "This navy-blue2020ToyotaRav4 is driving.\n"
     ]
    }
   ],
   "source": [
    "car_2.drive()"
   ]
  },
  {
   "cell_type": "markdown",
   "metadata": {},
   "source": [
    "The above sentence is squished together."
   ]
  },
  {
   "cell_type": "code",
   "execution_count": 28,
   "metadata": {
    "ExecuteTime": {
     "end_time": "2021-05-12T02:47:36.175510Z",
     "start_time": "2021-05-12T02:47:36.156580Z"
    }
   },
   "outputs": [
    {
     "name": "stdout",
     "output_type": "stream",
     "text": [
      "This navy-blue 2020 Toyota Rav4 is driving.\n"
     ]
    }
   ],
   "source": [
    "# added spaced after each arugment\n",
    "car_3 = Carshake(\"Toyota \", \"Rav4\", \"2020 \", \"navy-blue \")\n",
    "car_3.drive()\n"
   ]
  },
  {
   "cell_type": "markdown",
   "metadata": {},
   "source": [
    "Nice!"
   ]
  },
  {
   "cell_type": "code",
   "execution_count": null,
   "metadata": {},
   "outputs": [],
   "source": []
  }
 ],
 "metadata": {
  "kernelspec": {
   "display_name": "Python 3",
   "language": "python",
   "name": "python3"
  },
  "language_info": {
   "codemirror_mode": {
    "name": "ipython",
    "version": 3
   },
   "file_extension": ".py",
   "mimetype": "text/x-python",
   "name": "python",
   "nbconvert_exporter": "python",
   "pygments_lexer": "ipython3",
   "version": "3.6.9"
  }
 },
 "nbformat": 4,
 "nbformat_minor": 4
}

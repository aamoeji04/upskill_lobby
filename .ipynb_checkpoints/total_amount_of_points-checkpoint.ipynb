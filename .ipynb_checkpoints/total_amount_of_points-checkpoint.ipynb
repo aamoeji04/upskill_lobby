{
 "cells": [
  {
   "cell_type": "markdown",
   "metadata": {},
   "source": [
    "#### Task \n",
    "Write a function that takes such collection and counts the points of our team in the championship. Rules for counting points for each match:\n",
    "\n",
    "if x>y - 3 points\n",
    "\n",
    "if x<y - 0 point\n",
    "\n",
    "if x=y - 1 point\n",
    "\n",
    "def points (games):\n",
    "\t\n",
    "    pass"
   ]
  },
  {
   "cell_type": "code",
   "execution_count": 33,
   "metadata": {
    "ExecuteTime": {
     "end_time": "2021-04-26T22:52:13.883526Z",
     "start_time": "2021-04-26T22:52:13.862430Z"
    }
   },
   "outputs": [],
   "source": [
    "def point(games):\n",
    "    total = []\n",
    "    for z in games:\n",
    "        if z[0] > z[2]:\n",
    "            total.append(3)\n",
    "        elif z[0] < z[2]:\n",
    "            total.append(0)\n",
    "        elif z[0] == z[2]:\n",
    "            total.append(1)\n",
    "    return sum(total)\n",
    "    "
   ]
  },
  {
   "cell_type": "code",
   "execution_count": 35,
   "metadata": {
    "ExecuteTime": {
     "end_time": "2021-04-26T22:52:41.569703Z",
     "start_time": "2021-04-26T22:52:41.561677Z"
    }
   },
   "outputs": [
    {
     "data": {
      "text/plain": [
       "30"
      ]
     },
     "execution_count": 35,
     "metadata": {},
     "output_type": "execute_result"
    }
   ],
   "source": [
    "point(points)"
   ]
  },
  {
   "cell_type": "code",
   "execution_count": 1,
   "metadata": {
    "ExecuteTime": {
     "end_time": "2021-04-26T22:34:35.864982Z",
     "start_time": "2021-04-26T22:34:35.855963Z"
    }
   },
   "outputs": [],
   "source": [
    "points = ['1:0','2:0','3:0','4:0','2:1','3:1','4:1','3:2','4:2','4:3']"
   ]
  },
  {
   "cell_type": "code",
   "execution_count": 2,
   "metadata": {
    "ExecuteTime": {
     "end_time": "2021-04-26T22:34:39.732335Z",
     "start_time": "2021-04-26T22:34:39.714402Z"
    }
   },
   "outputs": [
    {
     "data": {
      "text/plain": [
       "'1:0'"
      ]
     },
     "execution_count": 2,
     "metadata": {},
     "output_type": "execute_result"
    }
   ],
   "source": [
    "points[0]"
   ]
  },
  {
   "cell_type": "code",
   "execution_count": 11,
   "metadata": {
    "ExecuteTime": {
     "end_time": "2021-04-26T22:39:23.829927Z",
     "start_time": "2021-04-26T22:39:23.819476Z"
    }
   },
   "outputs": [
    {
     "data": {
      "text/plain": [
       "'1'"
      ]
     },
     "execution_count": 11,
     "metadata": {},
     "output_type": "execute_result"
    }
   ],
   "source": [
    "points[0][0]"
   ]
  },
  {
   "cell_type": "code",
   "execution_count": 19,
   "metadata": {
    "ExecuteTime": {
     "end_time": "2021-04-26T22:43:08.114394Z",
     "start_time": "2021-04-26T22:43:08.102426Z"
    }
   },
   "outputs": [],
   "source": [
    "total = []\n",
    "for x in points:\n",
    "    if x[0] > x[2]:\n",
    "        total.append(3)"
   ]
  },
  {
   "cell_type": "code",
   "execution_count": 20,
   "metadata": {
    "ExecuteTime": {
     "end_time": "2021-04-26T22:43:08.761027Z",
     "start_time": "2021-04-26T22:43:08.752500Z"
    }
   },
   "outputs": [
    {
     "data": {
      "text/plain": [
       "[3, 3, 3, 3, 3, 3, 3, 3, 3, 3]"
      ]
     },
     "execution_count": 20,
     "metadata": {},
     "output_type": "execute_result"
    }
   ],
   "source": [
    "total"
   ]
  },
  {
   "cell_type": "code",
   "execution_count": 17,
   "metadata": {
    "ExecuteTime": {
     "end_time": "2021-04-26T22:40:16.081298Z",
     "start_time": "2021-04-26T22:40:16.075314Z"
    }
   },
   "outputs": [
    {
     "data": {
      "text/plain": [
       "10"
      ]
     },
     "execution_count": 17,
     "metadata": {},
     "output_type": "execute_result"
    }
   ],
   "source": [
    "len(total)"
   ]
  },
  {
   "cell_type": "code",
   "execution_count": 21,
   "metadata": {
    "ExecuteTime": {
     "end_time": "2021-04-26T22:43:18.001578Z",
     "start_time": "2021-04-26T22:43:17.986517Z"
    }
   },
   "outputs": [
    {
     "data": {
      "text/plain": [
       "30"
      ]
     },
     "execution_count": 21,
     "metadata": {},
     "output_type": "execute_result"
    }
   ],
   "source": [
    "sum(total)"
   ]
  },
  {
   "cell_type": "code",
   "execution_count": null,
   "metadata": {},
   "outputs": [],
   "source": [
    "def points(games):\n",
    "    result = 0\n",
    "    for i in games:\n",
    "        j = i.split(':')\n",
    "        if j[0] > j[1]:\n",
    "            result+=3\n",
    "        elif j[0] == j[1]:\n",
    "            result += 1\n",
    "    return result"
   ]
  }
 ],
 "metadata": {
  "kernelspec": {
   "display_name": "Python 3",
   "language": "python",
   "name": "python3"
  },
  "language_info": {
   "codemirror_mode": {
    "name": "ipython",
    "version": 3
   },
   "file_extension": ".py",
   "mimetype": "text/x-python",
   "name": "python",
   "nbconvert_exporter": "python",
   "pygments_lexer": "ipython3",
   "version": "3.6.9"
  }
 },
 "nbformat": 4,
 "nbformat_minor": 4
}

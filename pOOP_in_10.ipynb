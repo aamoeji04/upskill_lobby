{
 "cells": [
  {
   "cell_type": "code",
   "execution_count": 3,
   "metadata": {
    "ExecuteTime": {
     "end_time": "2021-05-12T02:17:26.712347Z",
     "start_time": "2021-05-12T02:17:26.695393Z"
    }
   },
   "outputs": [],
   "source": [
    "# from modeule import class\n",
    "class Car:\n",
    "#     constructor = intit method constructs objects for us [self must be at least one of the aruguement parameters]\n",
    "    def __init__(self, make, model, year, color):\n",
    "#     self.attribute [self = the object we are working with]\n",
    "        self.make = make\n",
    "        self.model = model\n",
    "        self.year = year\n",
    "        self.color = color\n",
    "#     methods(argument) self is the object using the method\n",
    "    def drive(self):\n",
    "        print(\"This car is driving.\")\n",
    "    def stop(self):\n",
    "        print(\"This car is stopped.\")"
   ]
  },
  {
   "cell_type": "code",
   "execution_count": null,
   "metadata": {},
   "outputs": [],
   "source": []
  }
 ],
 "metadata": {
  "kernelspec": {
   "display_name": "Python 3",
   "language": "python",
   "name": "python3"
  },
  "language_info": {
   "codemirror_mode": {
    "name": "ipython",
    "version": 3
   },
   "file_extension": ".py",
   "mimetype": "text/x-python",
   "name": "python",
   "nbconvert_exporter": "python",
   "pygments_lexer": "ipython3",
   "version": "3.6.9"
  }
 },
 "nbformat": 4,
 "nbformat_minor": 4
}

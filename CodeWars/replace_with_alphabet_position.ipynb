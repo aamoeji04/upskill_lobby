{
 "cells": [
  {
   "cell_type": "code",
   "execution_count": 1,
   "metadata": {
    "ExecuteTime": {
     "end_time": "2021-04-20T21:28:50.432866Z",
     "start_time": "2021-04-20T21:28:50.421894Z"
    }
   },
   "outputs": [],
   "source": [
    "import random"
   ]
  },
  {
   "cell_type": "code",
   "execution_count": 35,
   "metadata": {
    "ExecuteTime": {
     "end_time": "2021-04-21T03:45:40.345972Z",
     "start_time": "2021-04-21T03:45:40.337484Z"
    }
   },
   "outputs": [],
   "source": [
    "alphabet = 'abcdefghijklmnopqrstuvqxyz'\n",
    "alpha_num = list(range(1,27))"
   ]
  },
  {
   "cell_type": "code",
   "execution_count": 19,
   "metadata": {
    "ExecuteTime": {
     "end_time": "2021-04-21T03:38:20.870748Z",
     "start_time": "2021-04-21T03:38:20.852260Z"
    },
    "scrolled": true
   },
   "outputs": [
    {
     "data": {
      "text/plain": [
       "[1,\n",
       " 2,\n",
       " 3,\n",
       " 4,\n",
       " 5,\n",
       " 6,\n",
       " 7,\n",
       " 8,\n",
       " 9,\n",
       " 10,\n",
       " 11,\n",
       " 12,\n",
       " 13,\n",
       " 14,\n",
       " 15,\n",
       " 16,\n",
       " 17,\n",
       " 18,\n",
       " 19,\n",
       " 20,\n",
       " 21,\n",
       " 22,\n",
       " 23,\n",
       " 24,\n",
       " 25,\n",
       " 26]"
      ]
     },
     "execution_count": 19,
     "metadata": {},
     "output_type": "execute_result"
    }
   ],
   "source": [
    "alpha_num"
   ]
  },
  {
   "cell_type": "code",
   "execution_count": 36,
   "metadata": {
    "ExecuteTime": {
     "end_time": "2021-04-21T03:45:43.247057Z",
     "start_time": "2021-04-21T03:45:43.235860Z"
    }
   },
   "outputs": [],
   "source": [
    "alpha = [x for x in alphabet]"
   ]
  },
  {
   "cell_type": "code",
   "execution_count": 37,
   "metadata": {
    "ExecuteTime": {
     "end_time": "2021-04-21T03:45:45.054129Z",
     "start_time": "2021-04-21T03:45:45.046673Z"
    }
   },
   "outputs": [
    {
     "data": {
      "text/plain": [
       "26"
      ]
     },
     "execution_count": 37,
     "metadata": {},
     "output_type": "execute_result"
    }
   ],
   "source": [
    "len(alpha)"
   ]
  },
  {
   "cell_type": "code",
   "execution_count": 66,
   "metadata": {
    "ExecuteTime": {
     "end_time": "2021-04-21T05:31:44.371177Z",
     "start_time": "2021-04-21T05:31:44.362201Z"
    }
   },
   "outputs": [
    {
     "data": {
      "text/plain": [
       "{'a': 1,\n",
       " 'b': 2,\n",
       " 'c': 3,\n",
       " 'd': 4,\n",
       " 'e': 5,\n",
       " 'f': 6,\n",
       " 'g': 7,\n",
       " 'h': 8,\n",
       " 'i': 9,\n",
       " 'j': 10,\n",
       " 'k': 11,\n",
       " 'l': 12,\n",
       " 'm': 13,\n",
       " 'n': 14,\n",
       " 'o': 15,\n",
       " 'p': 16,\n",
       " 'q': 23,\n",
       " 'r': 18,\n",
       " 's': 19,\n",
       " 't': 20,\n",
       " 'u': 21,\n",
       " 'v': 22,\n",
       " 'x': 24,\n",
       " 'y': 25,\n",
       " 'z': 26}"
      ]
     },
     "execution_count": 66,
     "metadata": {},
     "output_type": "execute_result"
    }
   ],
   "source": [
    "alpha_num_alpha = dict(zip(alpha, alpha_num))\n",
    "alpha_num_alpha"
   ]
  },
  {
   "cell_type": "code",
   "execution_count": 39,
   "metadata": {
    "ExecuteTime": {
     "end_time": "2021-04-21T03:59:55.142622Z",
     "start_time": "2021-04-21T03:59:55.135533Z"
    }
   },
   "outputs": [],
   "source": [
    "text = \"The sunset sets at twelve o' clock.\""
   ]
  },
  {
   "cell_type": "code",
   "execution_count": 75,
   "metadata": {
    "ExecuteTime": {
     "end_time": "2021-04-21T06:21:22.369986Z",
     "start_time": "2021-04-21T06:21:22.359095Z"
    }
   },
   "outputs": [
    {
     "data": {
      "text/plain": [
       "['t',\n",
       " ',',\n",
       " 'h',\n",
       " ',',\n",
       " 'e',\n",
       " ',',\n",
       " ' ',\n",
       " ',',\n",
       " 's',\n",
       " ',',\n",
       " 'u',\n",
       " ',',\n",
       " 'n',\n",
       " ',',\n",
       " 's',\n",
       " ',',\n",
       " 'e',\n",
       " ',',\n",
       " 't',\n",
       " ',',\n",
       " ' ',\n",
       " ',',\n",
       " 's',\n",
       " ',',\n",
       " 'e',\n",
       " ',',\n",
       " 't',\n",
       " ',',\n",
       " 's',\n",
       " ',',\n",
       " ' ',\n",
       " ',',\n",
       " 'a',\n",
       " ',',\n",
       " 't',\n",
       " ',',\n",
       " ' ',\n",
       " ',',\n",
       " 't',\n",
       " ',',\n",
       " 'w',\n",
       " ',',\n",
       " 'e',\n",
       " ',',\n",
       " 'l',\n",
       " ',',\n",
       " 'v',\n",
       " ',',\n",
       " 'e',\n",
       " ',',\n",
       " ' ',\n",
       " ',',\n",
       " 'o',\n",
       " ',',\n",
       " \"'\",\n",
       " ',',\n",
       " ' ',\n",
       " ',',\n",
       " 'c',\n",
       " ',',\n",
       " 'l',\n",
       " ',',\n",
       " 'o',\n",
       " ',',\n",
       " 'c',\n",
       " ',',\n",
       " 'k',\n",
       " ',',\n",
       " '.']"
      ]
     },
     "execution_count": 75,
     "metadata": {},
     "output_type": "execute_result"
    }
   ],
   "source": [
    "t = list(','.join(text).lower())\n",
    "t"
   ]
  },
  {
   "cell_type": "code",
   "execution_count": 76,
   "metadata": {
    "ExecuteTime": {
     "end_time": "2021-04-21T06:21:53.425115Z",
     "start_time": "2021-04-21T06:21:53.412150Z"
    }
   },
   "outputs": [
    {
     "data": {
      "text/plain": [
       "'t'"
      ]
     },
     "execution_count": 76,
     "metadata": {},
     "output_type": "execute_result"
    }
   ],
   "source": [
    "t[0]"
   ]
  },
  {
   "cell_type": "code",
   "execution_count": 63,
   "metadata": {
    "ExecuteTime": {
     "end_time": "2021-04-21T05:28:34.621595Z",
     "start_time": "2021-04-21T05:28:34.613616Z"
    },
    "scrolled": true
   },
   "outputs": [
    {
     "data": {
      "text/plain": [
       "dict_keys([1, 2, 3, 4, 5, 6, 7, 8, 9, 10, 11, 12, 13, 14, 15, 16, 17, 18, 19, 20, 21, 22, 23, 24, 25, 26])"
      ]
     },
     "execution_count": 63,
     "metadata": {},
     "output_type": "execute_result"
    }
   ],
   "source": [
    "alpha_num_alpha.keys()"
   ]
  },
  {
   "cell_type": "code",
   "execution_count": 79,
   "metadata": {
    "ExecuteTime": {
     "end_time": "2021-04-21T06:24:09.987832Z",
     "start_time": "2021-04-21T06:24:09.972998Z"
    }
   },
   "outputs": [],
   "source": [
    "lit = []\n",
    "for l in t:\n",
    "    lit.append(l.replace(l, str(alpha_num_alpha.keys())))"
   ]
  },
  {
   "cell_type": "code",
   "execution_count": 84,
   "metadata": {
    "ExecuteTime": {
     "end_time": "2021-04-21T06:32:48.727662Z",
     "start_time": "2021-04-21T06:32:48.709040Z"
    }
   },
   "outputs": [],
   "source": [
    "arr = []\n",
    "new_text = text.lower()\n",
    "for i in list(new_text):\n",
    "    for k, j in alpha_num_alpha.items():\n",
    "        if k == i:\n",
    "            arr.append(j)\n",
    "# print(' '.join(arr))"
   ]
  },
  {
   "cell_type": "code",
   "execution_count": 85,
   "metadata": {
    "ExecuteTime": {
     "end_time": "2021-04-21T06:32:52.300664Z",
     "start_time": "2021-04-21T06:32:52.290716Z"
    }
   },
   "outputs": [
    {
     "data": {
      "text/plain": [
       "[20,\n",
       " 8,\n",
       " 5,\n",
       " 19,\n",
       " 21,\n",
       " 14,\n",
       " 19,\n",
       " 5,\n",
       " 20,\n",
       " 19,\n",
       " 5,\n",
       " 20,\n",
       " 19,\n",
       " 1,\n",
       " 20,\n",
       " 20,\n",
       " 5,\n",
       " 12,\n",
       " 22,\n",
       " 5,\n",
       " 15,\n",
       " 3,\n",
       " 12,\n",
       " 15,\n",
       " 3,\n",
       " 11]"
      ]
     },
     "execution_count": 85,
     "metadata": {},
     "output_type": "execute_result"
    }
   ],
   "source": [
    "arr"
   ]
  },
  {
   "cell_type": "code",
   "execution_count": 74,
   "metadata": {
    "ExecuteTime": {
     "end_time": "2021-04-21T06:20:14.927461Z",
     "start_time": "2021-04-21T06:20:14.922475Z"
    }
   },
   "outputs": [
    {
     "name": "stdout",
     "output_type": "stream",
     "text": [
      "['t', ' ', 'h', ' ', 'e', ' ', ' ', ' ', 's', ' ', 'u', ' ', 'n', ' ', 's', ' ', 'e', ' ', 't', ' ', ' ', ' ', 's', ' ', 'e', ' ', 't', ' ', 's', ' ', ' ', ' ', 'a', ' ', 't', ' ', ' ', ' ', 't', ' ', 'w', ' ', 'e', ' ', 'l', ' ', 'v', ' ', 'e', ' ', ' ', ' ', 'o', ' ', \"'\", ' ', ' ', ' ', 'c', ' ', 'l', ' ', 'o', ' ', 'c', ' ', 'k', ' ', '.']\n"
     ]
    }
   ],
   "source": [
    "# textt = text\n",
    "\n",
    "for letter, index in alpha_num_alpha.items():\n",
    "    textt = list(' '.join(text).lower())\n",
    "    ttextt = str(textt).replace(letter.lower(), str(index))\n",
    "print(ttextt)"
   ]
  },
  {
   "cell_type": "code",
   "execution_count": null,
   "metadata": {},
   "outputs": [],
   "source": [
    "def alphabet_position(text):\n",
    "    text = list(','.join(text).lower())\n",
    "    alphabet = 'abcdefghijklmnopqrstuvqxyz'\n",
    "    alpha = [x for x in alphabet]\n",
    "    alpha_num = list(range(1,27))\n",
    "    alpha_num_alpha = dict(zip(alpha_num, alpha))\n",
    "    for letter in text:\n",
    "        if "
   ]
  }
 ],
 "metadata": {
  "kernelspec": {
   "display_name": "Python 3",
   "language": "python",
   "name": "python3"
  },
  "language_info": {
   "codemirror_mode": {
    "name": "ipython",
    "version": 3
   },
   "file_extension": ".py",
   "mimetype": "text/x-python",
   "name": "python",
   "nbconvert_exporter": "python",
   "pygments_lexer": "ipython3",
   "version": "3.6.9"
  }
 },
 "nbformat": 4,
 "nbformat_minor": 4
}

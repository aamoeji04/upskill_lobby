{
 "cells": [
  {
   "cell_type": "code",
   "execution_count": 2,
   "metadata": {
    "ExecuteTime": {
     "end_time": "2021-04-20T08:46:30.656726Z",
     "start_time": "2021-04-20T08:46:30.058318Z"
    }
   },
   "outputs": [],
   "source": [
    "import numpy as np\n",
    "import random\n",
    "import math\n",
    "import statistics as stats\n",
    "import pandas as pd"
   ]
  },
  {
   "cell_type": "code",
   "execution_count": 3,
   "metadata": {
    "ExecuteTime": {
     "end_time": "2021-04-20T08:46:32.299178Z",
     "start_time": "2021-04-20T08:46:32.288933Z"
    }
   },
   "outputs": [
    {
     "data": {
      "text/plain": [
       "[45995, 94034, 50927, 63404, 82871, 38906, 56227, 1800, 47074, 7908]"
      ]
     },
     "execution_count": 3,
     "metadata": {},
     "output_type": "execute_result"
    }
   ],
   "source": [
    "lst = [random.randrange(0, 10**5, 1) for i in range(10)]\n",
    "lst"
   ]
  },
  {
   "cell_type": "markdown",
   "metadata": {},
   "source": [
    "###### Mean"
   ]
  },
  {
   "cell_type": "code",
   "execution_count": 3,
   "metadata": {
    "ExecuteTime": {
     "end_time": "2021-04-20T03:35:46.375146Z",
     "start_time": "2021-04-20T03:35:46.359555Z"
    }
   },
   "outputs": [
    {
     "data": {
      "text/plain": [
       "39288.4"
      ]
     },
     "execution_count": 3,
     "metadata": {},
     "output_type": "execute_result"
    }
   ],
   "source": [
    "mean = sum(lst)/len(lst)\n",
    "mean"
   ]
  },
  {
   "cell_type": "code",
   "execution_count": 4,
   "metadata": {
    "ExecuteTime": {
     "end_time": "2021-04-20T03:35:46.391135Z",
     "start_time": "2021-04-20T03:35:46.375146Z"
    }
   },
   "outputs": [],
   "source": [
    "def find_mean(arr):\n",
    "    return sum(arr)/len(arr)"
   ]
  },
  {
   "cell_type": "code",
   "execution_count": 5,
   "metadata": {
    "ExecuteTime": {
     "end_time": "2021-04-20T03:35:46.407410Z",
     "start_time": "2021-04-20T03:35:46.391135Z"
    }
   },
   "outputs": [
    {
     "data": {
      "text/plain": [
       "39288.4"
      ]
     },
     "execution_count": 5,
     "metadata": {},
     "output_type": "execute_result"
    }
   ],
   "source": [
    "find_mean(lst)"
   ]
  },
  {
   "cell_type": "code",
   "execution_count": 6,
   "metadata": {
    "ExecuteTime": {
     "end_time": "2021-04-20T03:35:46.423148Z",
     "start_time": "2021-04-20T03:35:46.407410Z"
    }
   },
   "outputs": [
    {
     "data": {
      "text/plain": [
       "39288.4"
      ]
     },
     "execution_count": 6,
     "metadata": {},
     "output_type": "execute_result"
    }
   ],
   "source": [
    "stats.mean(lst)"
   ]
  },
  {
   "cell_type": "markdown",
   "metadata": {},
   "source": [
    "###### Median"
   ]
  },
  {
   "cell_type": "code",
   "execution_count": 7,
   "metadata": {
    "ExecuteTime": {
     "end_time": "2021-04-20T03:35:46.439139Z",
     "start_time": "2021-04-20T03:35:46.423148Z"
    }
   },
   "outputs": [],
   "source": [
    "lst.sort()"
   ]
  },
  {
   "cell_type": "code",
   "execution_count": 8,
   "metadata": {
    "ExecuteTime": {
     "end_time": "2021-04-20T03:35:46.455388Z",
     "start_time": "2021-04-20T03:35:46.439139Z"
    }
   },
   "outputs": [
    {
     "data": {
      "text/plain": [
       "43883.0"
      ]
     },
     "execution_count": 8,
     "metadata": {},
     "output_type": "execute_result"
    }
   ],
   "source": [
    "stats.median(lst)"
   ]
  },
  {
   "cell_type": "code",
   "execution_count": 9,
   "metadata": {
    "ExecuteTime": {
     "end_time": "2021-04-20T03:35:46.471086Z",
     "start_time": "2021-04-20T03:35:46.455388Z"
    }
   },
   "outputs": [],
   "source": [
    "def find_med(arr):\n",
    "#     length of the list\n",
    "    n = len(arr)\n",
    "#     return an integer rather than a float\n",
    "    index = n//2\n",
    "#     if the length of the list is odd, return the index which denotes the median value\n",
    "    if n%2:\n",
    "        return sorted(arr)[index]\n",
    "#     if the length of the list is even, add an index above and below the index together and divide by 2 (find the mean)\n",
    "    else:\n",
    "        return sum(sorted(arr)[index-1:index+1])/2"
   ]
  },
  {
   "cell_type": "code",
   "execution_count": 10,
   "metadata": {
    "ExecuteTime": {
     "end_time": "2021-04-20T03:35:46.487430Z",
     "start_time": "2021-04-20T03:35:46.471086Z"
    }
   },
   "outputs": [
    {
     "data": {
      "text/plain": [
       "43883.0"
      ]
     },
     "execution_count": 10,
     "metadata": {},
     "output_type": "execute_result"
    }
   ],
   "source": [
    "find_med(lst)"
   ]
  },
  {
   "cell_type": "code",
   "execution_count": 22,
   "metadata": {
    "ExecuteTime": {
     "end_time": "2021-04-20T08:52:18.919169Z",
     "start_time": "2021-04-20T08:52:18.910663Z"
    }
   },
   "outputs": [
    {
     "data": {
      "text/plain": [
       "[45995, 94034, 50927, 63404, 82871, 38906, 56227, 1800, 47074, 7908]"
      ]
     },
     "execution_count": 22,
     "metadata": {},
     "output_type": "execute_result"
    }
   ],
   "source": [
    "lst"
   ]
  },
  {
   "cell_type": "code",
   "execution_count": 23,
   "metadata": {
    "ExecuteTime": {
     "end_time": "2021-04-20T08:52:22.912540Z",
     "start_time": "2021-04-20T08:52:22.903980Z"
    }
   },
   "outputs": [],
   "source": [
    "n = len(lst)"
   ]
  },
  {
   "cell_type": "code",
   "execution_count": 20,
   "metadata": {
    "ExecuteTime": {
     "end_time": "2021-04-20T08:52:06.335032Z",
     "start_time": "2021-04-20T08:52:06.320777Z"
    }
   },
   "outputs": [],
   "source": [
    "index = n//2"
   ]
  },
  {
   "cell_type": "code",
   "execution_count": 10,
   "metadata": {
    "ExecuteTime": {
     "end_time": "2021-04-20T08:49:12.531056Z",
     "start_time": "2021-04-20T08:49:12.517103Z"
    }
   },
   "outputs": [
    {
     "data": {
      "text/plain": [
       "[1800, 7908, 38906, 45995, 47074, 50927, 56227, 63404, 82871, 94034]"
      ]
     },
     "execution_count": 10,
     "metadata": {},
     "output_type": "execute_result"
    }
   ],
   "source": [
    "sorted(lst)"
   ]
  },
  {
   "cell_type": "code",
   "execution_count": 12,
   "metadata": {
    "ExecuteTime": {
     "end_time": "2021-04-20T08:50:20.935819Z",
     "start_time": "2021-04-20T08:50:20.928841Z"
    }
   },
   "outputs": [
    {
     "data": {
      "text/plain": [
       "50927"
      ]
     },
     "execution_count": 12,
     "metadata": {},
     "output_type": "execute_result"
    }
   ],
   "source": [
    "sorted(lst)[index]"
   ]
  },
  {
   "cell_type": "code",
   "execution_count": 11,
   "metadata": {
    "ExecuteTime": {
     "end_time": "2021-04-20T08:49:52.220092Z",
     "start_time": "2021-04-20T08:49:52.204548Z"
    }
   },
   "outputs": [
    {
     "data": {
      "text/plain": [
       "47074"
      ]
     },
     "execution_count": 11,
     "metadata": {},
     "output_type": "execute_result"
    }
   ],
   "source": [
    "sorted(lst)[index-1]"
   ]
  },
  {
   "cell_type": "code",
   "execution_count": 29,
   "metadata": {
    "ExecuteTime": {
     "end_time": "2021-04-20T08:54:05.905923Z",
     "start_time": "2021-04-20T08:54:05.888864Z"
    }
   },
   "outputs": [
    {
     "data": {
      "text/plain": [
       "10"
      ]
     },
     "execution_count": 29,
     "metadata": {},
     "output_type": "execute_result"
    }
   ],
   "source": [
    "n"
   ]
  },
  {
   "cell_type": "code",
   "execution_count": 32,
   "metadata": {
    "ExecuteTime": {
     "end_time": "2021-04-20T08:57:36.521705Z",
     "start_time": "2021-04-20T08:57:36.506469Z"
    }
   },
   "outputs": [
    {
     "name": "stdout",
     "output_type": "stream",
     "text": [
      "49000.5\n"
     ]
    }
   ],
   "source": [
    "if n%2:\n",
    "    print(sorted(lst)[index])\n",
    "else:\n",
    "    print(sum(sorted(lst)[index-1:index+1])/2)"
   ]
  },
  {
   "cell_type": "markdown",
   "metadata": {},
   "source": [
    "###### Mode"
   ]
  },
  {
   "cell_type": "code",
   "execution_count": 20,
   "metadata": {
    "ExecuteTime": {
     "end_time": "2021-04-20T06:30:10.419592Z",
     "start_time": "2021-04-20T06:30:10.415059Z"
    }
   },
   "outputs": [],
   "source": [
    "from collections import Counter"
   ]
  },
  {
   "cell_type": "code",
   "execution_count": 104,
   "metadata": {
    "ExecuteTime": {
     "end_time": "2021-04-20T07:36:18.957390Z",
     "start_time": "2021-04-20T07:36:18.948893Z"
    },
    "scrolled": true
   },
   "outputs": [
    {
     "name": "stdout",
     "output_type": "stream",
     "text": [
      "[87009, 14874, 12046, 4506, 29299, 19634, 74815, 6343, 20141, 18259]\n"
     ]
    },
    {
     "data": {
      "text/plain": [
       "[(87009, 1)]"
      ]
     },
     "execution_count": 104,
     "metadata": {},
     "output_type": "execute_result"
    }
   ],
   "source": [
    "print(lst)\n",
    "c = Counter(lst)\n",
    "# return a list with a tuple of (observation, count)\n",
    "c.most_common(1)"
   ]
  },
  {
   "cell_type": "code",
   "execution_count": 122,
   "metadata": {
    "ExecuteTime": {
     "end_time": "2021-04-20T07:43:51.949910Z",
     "start_time": "2021-04-20T07:43:51.942349Z"
    }
   },
   "outputs": [
    {
     "name": "stdout",
     "output_type": "stream",
     "text": [
      "(87009, 1)\n",
      "1\n"
     ]
    }
   ],
   "source": [
    "# index ino the list\n",
    "print(c.most_common(1)[0])\n",
    "print(c.most_common(1)[0][1])"
   ]
  },
  {
   "cell_type": "code",
   "execution_count": 126,
   "metadata": {
    "ExecuteTime": {
     "end_time": "2021-04-20T07:46:21.576439Z",
     "start_time": "2021-04-20T07:46:21.572951Z"
    }
   },
   "outputs": [],
   "source": [
    "c.items()\n",
    "kv = []\n",
    "for k,v in c.items(): # k is the observation, v is the count of the observation\n",
    "    if v == c.most_common(1)[0][1]: # if the count of an observation == that of the most common observation\n",
    "        kv.append(k) # append that observation to the empty list"
   ]
  },
  {
   "cell_type": "code",
   "execution_count": 127,
   "metadata": {
    "ExecuteTime": {
     "end_time": "2021-04-20T07:46:21.904368Z",
     "start_time": "2021-04-20T07:46:21.886362Z"
    }
   },
   "outputs": [
    {
     "data": {
      "text/plain": [
       "[87009, 14874, 12046, 4506, 29299, 19634, 74815, 6343, 20141, 18259]"
      ]
     },
     "execution_count": 127,
     "metadata": {},
     "output_type": "execute_result"
    }
   ],
   "source": [
    "kv"
   ]
  },
  {
   "cell_type": "code",
   "execution_count": 94,
   "metadata": {
    "ExecuteTime": {
     "end_time": "2021-04-20T07:05:26.697922Z",
     "start_time": "2021-04-20T07:05:26.674754Z"
    },
    "scrolled": true
   },
   "outputs": [
    {
     "data": {
      "text/plain": [
       "[87009, 14874, 12046, 4506, 29299, 19634, 74815, 6343, 20141, 18259]"
      ]
     },
     "execution_count": 94,
     "metadata": {},
     "output_type": "execute_result"
    }
   ],
   "source": [
    "def find_mode(arr):\n",
    "    c = Counter(arr)\n",
    "    return [k for k,v in c.items() if v == c.most_common(1)[0][1]]\n",
    "find_mode(lst)"
   ]
  },
  {
   "cell_type": "code",
   "execution_count": 100,
   "metadata": {
    "ExecuteTime": {
     "end_time": "2021-04-20T07:07:53.997930Z",
     "start_time": "2021-04-20T07:07:53.994544Z"
    }
   },
   "outputs": [
    {
     "data": {
      "text/plain": [
       "[4506, 6343, 12046, 14874, 18259, 19634, 20141, 29299, 74815, 87009]"
      ]
     },
     "execution_count": 100,
     "metadata": {},
     "output_type": "execute_result"
    }
   ],
   "source": [
    "sorted(find_mode(lst))"
   ]
  },
  {
   "cell_type": "code",
   "execution_count": 101,
   "metadata": {
    "ExecuteTime": {
     "end_time": "2021-04-20T07:08:05.643862Z",
     "start_time": "2021-04-20T07:08:05.635846Z"
    }
   },
   "outputs": [
    {
     "data": {
      "text/plain": [
       "4506"
      ]
     },
     "execution_count": 101,
     "metadata": {},
     "output_type": "execute_result"
    }
   ],
   "source": [
    "sorted(find_mode(lst))[0]"
   ]
  },
  {
   "cell_type": "code",
   "execution_count": 102,
   "metadata": {
    "ExecuteTime": {
     "end_time": "2021-04-20T07:09:52.939649Z",
     "start_time": "2021-04-20T07:09:52.932635Z"
    }
   },
   "outputs": [
    {
     "data": {
      "text/plain": [
       "4506"
      ]
     },
     "execution_count": 102,
     "metadata": {},
     "output_type": "execute_result"
    }
   ],
   "source": [
    "def find_mode(arr):\n",
    "    c = Counter(arr)\n",
    "    return sorted([k for k,v in c.items() if v == c.most_common(1)[0][1]])[0]\n",
    "find_mode(lst)"
   ]
  },
  {
   "cell_type": "markdown",
   "metadata": {},
   "source": [
    "#### Answer"
   ]
  },
  {
   "cell_type": "code",
   "execution_count": null,
   "metadata": {},
   "outputs": [],
   "source": [
    "10\n",
    "64630 11735 14216 99233 14470 4978 73429 38120 51135 67060"
   ]
  },
  {
   "cell_type": "code",
   "execution_count": 146,
   "metadata": {
    "ExecuteTime": {
     "end_time": "2021-04-20T08:08:42.447194Z",
     "start_time": "2021-04-20T08:08:42.439209Z"
    }
   },
   "outputs": [],
   "source": [
    "# Enter your code here. Read input from STDIN. Print output to STDOUT\n",
    "import statistics as stats\n",
    "from collections import Counter\n",
    "\n",
    "def m_med_mode(n, arr):\n",
    "    c = Counter(arr)\n",
    "    m = print(sum(arr)/n)\n",
    "    med = print(stats.median(arr))\n",
    "    mode = print(sorted([k for k,v in c.items() if v == c.most_common(1)[0][1]])[0])\n",
    "    return (m,med,mode)"
   ]
  },
  {
   "cell_type": "code",
   "execution_count": 147,
   "metadata": {
    "ExecuteTime": {
     "end_time": "2021-04-20T08:08:42.681472Z",
     "start_time": "2021-04-20T08:08:42.665511Z"
    }
   },
   "outputs": [
    {
     "name": "stdout",
     "output_type": "stream",
     "text": [
      "43900.6\n",
      "44627.5\n",
      "4978\n"
     ]
    },
    {
     "data": {
      "text/plain": [
       "(None, None, None)"
      ]
     },
     "execution_count": 147,
     "metadata": {},
     "output_type": "execute_result"
    }
   ],
   "source": [
    "m_med_mode(10, [64630, 11735, 14216, 99233, 14470, 4978, 73429, 38120, 51135, 67060])"
   ]
  },
  {
   "cell_type": "code",
   "execution_count": 153,
   "metadata": {
    "ExecuteTime": {
     "end_time": "2021-04-20T08:13:51.457069Z",
     "start_time": "2021-04-20T08:13:39.795911Z"
    }
   },
   "outputs": [
    {
     "name": "stdout",
     "output_type": "stream",
     "text": [
      "10\n",
      "64630 11735 14216 99233 14470 4978 73429 38120 51135 67060\n",
      "43900.6\n",
      "44627.5\n",
      "4978\n"
     ]
    }
   ],
   "source": [
    "n = int(input())\n",
    "arr = list(map(int, input().split()))\n",
    "c = Counter(arr)\n",
    "m = print(sum(arr)/n)\n",
    "med = print(stats.median(arr))\n",
    "mode = print(sorted([k for k,v in c.items() if v == c.most_common(1)[0][1]])[0])"
   ]
  },
  {
   "cell_type": "code",
   "execution_count": null,
   "metadata": {},
   "outputs": [],
   "source": []
  }
 ],
 "metadata": {
  "kernelspec": {
   "display_name": "Python 3",
   "language": "python",
   "name": "python3"
  },
  "language_info": {
   "codemirror_mode": {
    "name": "ipython",
    "version": 3
   },
   "file_extension": ".py",
   "mimetype": "text/x-python",
   "name": "python",
   "nbconvert_exporter": "python",
   "pygments_lexer": "ipython3",
   "version": "3.6.9"
  }
 },
 "nbformat": 4,
 "nbformat_minor": 4
}
